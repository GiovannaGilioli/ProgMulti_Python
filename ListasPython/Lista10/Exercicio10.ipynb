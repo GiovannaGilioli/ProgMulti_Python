{
 "cells": [
  {
   "cell_type": "markdown",
   "metadata": {},
   "source": [
    "# Giovanna Gilioli 816113104"
   ]
  },
  {
   "cell_type": "markdown",
   "metadata": {},
   "source": [
    "1 -  Escreva uma função que retorne o menor de dois números\n",
    "dados se ambos os números forem pares, mas retorna o maior se um dos dois for\n",
    "ímpar. Exemplo:\n",
    "menor_de_dois_pares(2,4) --> 2\n",
    "menor_de_dois_pares (2,5) --> 5"
   ]
  },
  {
   "cell_type": "code",
   "execution_count": 6,
   "metadata": {},
   "outputs": [
    {
     "name": "stdout",
     "output_type": "stream",
     "text": [
      "10\n",
      "25\n"
     ]
    }
   ],
   "source": [
    "\n",
    "def menor(n,n2):\n",
    "    if n%2==0 and n2%2==0:\n",
    "        if n2 > n:\n",
    "            print(n)\n",
    "        else:\n",
    "            print(n2)\n",
    "    else:\n",
    "        if n > n2:\n",
    "            print(n)\n",
    "        else:\n",
    "            print(n2)\n",
    "\n",
    "menor(10,14)\n",
    "menor(10,25)"
   ]
  },
  {
   "cell_type": "markdown",
   "metadata": {},
   "source": [
    "2 - Mesma letra: Escreva uma função que receba uma string com duas palavras e\n",
    "retorne True se ambas palavras começarem com a mesma letra. Exemplo:\n",
    "mesma_letra('Cão covarde') -> True\n",
    "mesma_letra('Vira Lata') -> False"
   ]
  },
  {
   "cell_type": "code",
   "execution_count": 12,
   "metadata": {},
   "outputs": [
    {
     "name": "stdout",
     "output_type": "stream",
     "text": [
      "True\n",
      "False\n"
     ]
    }
   ],
   "source": [
    "def mesma_letra(s1):\n",
    "    i = 0\n",
    "    for letra in s1:\n",
    "        if letra ==\"C\" or letra == \"C\":\n",
    "            m = \"True\"\n",
    "            i += 1\n",
    "        else:\n",
    "            m2 = \"False\"\n",
    "    else:\n",
    "        if i == 2:\n",
    "            print(m)\n",
    "        else:\n",
    "            print(m2)\n",
    "\n",
    "mesma_letra(\"Cão Covarde\")\n",
    "mesma_letra(\"Vira Lata\")"
   ]
  },
  {
   "cell_type": "markdown",
   "metadata": {},
   "source": [
    "3 - Mestre Yoda: Dada uma sentença, a função deve retornar a sentença com as\n",
    "palavras na ordem reversa. Exemplo:\n",
    "mestre_yoda('Eu estou em casa') --> 'casa em estou Eu'\n",
    "mestre_yoda('Estamos prontos') --> 'prontos Estamos'\n"
   ]
  },
  {
   "cell_type": "code",
   "execution_count": 20,
   "metadata": {},
   "outputs": [
    {
     "name": "stdout",
     "output_type": "stream",
     "text": [
      "asac me uotse uE\n",
      "Estamos prontos\n"
     ]
    }
   ],
   "source": [
    "def ordem_reversa(s):\n",
    "    return print(s[::-1])\n",
    "\n",
    "ordem_reversa(\"Eu estou em casa\")\n",
    "ordem_reversa(\"sotnorp somatsE\")"
   ]
  },
  {
   "cell_type": "markdown",
   "metadata": {},
   "source": [
    "4 - Tem 33: Faça uma função que retorne True se, dada uma lista de inteiros, houver\n",
    "em alguma posição da lista um 3 do lado de outro 3. Exemplo:\n",
    "tem_33([1,3,3]) --> True\n",
    "tem_33([1,3,1,3]) --> False\n",
    "tem_33([3,1,3]) --> False "
   ]
  },
  {
   "cell_type": "code",
   "execution_count": 23,
   "metadata": {},
   "outputs": [
    {
     "name": "stdout",
     "output_type": "stream",
     "text": [
      "True\n",
      "False\n",
      "True\n",
      "False\n"
     ]
    }
   ],
   "source": [
    "def lista_int(l=[]):\n",
    "    i = 0\n",
    "    atual = 1\n",
    "    prox = 0\n",
    "    for lista in l:\n",
    "        if lista == 3:\n",
    "            atual = lista\n",
    "        else:\n",
    "            prox = lista\n",
    "        \n",
    "        if atual == prox:\n",
    "            i += 1\n",
    "    else:\n",
    "        if i >= 1:\n",
    "            print(\"True\")\n",
    "        else:\n",
    "            print(\"False\")\n",
    "            \n",
    "lista_int([1,3,3])\n",
    "lista_int([3,1,3])\n",
    "lista_int([1,3,3,1,3])\n",
    "lista_int([3,1,3,3])\n"
   ]
  },
  {
   "cell_type": "markdown",
   "metadata": {},
   "source": [
    "5 -  Blackjack: Faça uma função que receba 3 inteiros entre 1 e 11. Se a soma deles for\n",
    "menor que 21, retorne o valor da soma. Se for mair do que 21 e houver um 11,\n",
    "subtraia 10 da soma antes de apresentar o resultado. Se o valor da soma passar de\n",
    "21, retorne ‘ESTOUROU’. Exemplo:\n",
    "blackjack(5,6,7) --> 18\n",
    "blackjack(9,9,9) --> 'ESTOUROU'\n",
    "blackjack(9,9,11) --> 19\n",
    "\n"
   ]
  },
  {
   "cell_type": "code",
   "execution_count": 24,
   "metadata": {},
   "outputs": [
    {
     "name": "stdout",
     "output_type": "stream",
     "text": [
      "18\n",
      "ESTOROU\n",
      "18\n"
     ]
    }
   ],
   "source": [
    "def blackjack(n,n2,n3):\n",
    "    soma = n+n2+n3\n",
    "    if soma < 21:\n",
    "        print(soma)\n",
    "    elif soma > 21 and n == 11 or n2 == 11 or n3 == 11:\n",
    "        novo = soma - 11\n",
    "        print(novo)\n",
    "    else:\n",
    "        print('ESTOROU')\n",
    "        \n",
    "blackjack(5,6,7)\n",
    "blackjack(9,9,9)\n",
    "blackjack(9,9,11)"
   ]
  },
  {
   "cell_type": "markdown",
   "metadata": {},
   "source": [
    "6 -  Espião: Escreva uma função que receba uma lista de\n",
    "inteiros e retorne True se contém um 007 em ordem, mesmo\n",
    "que não contínuo. Exemplo:\n",
    "espiao([1,2,4,0,0,7,5]) --> True\n",
    "espiao([1,0,2,4,0,5,7]) --> True\n",
    "espiao([1,7,2,4,0,5,0]) --> False"
   ]
  },
  {
   "cell_type": "code",
   "execution_count": 30,
   "metadata": {},
   "outputs": [
    {
     "name": "stdout",
     "output_type": "stream",
     "text": [
      "True\n",
      "True\n",
      "False\n",
      "False\n"
     ]
    }
   ],
   "source": [
    "def espiao(bonde = []):\n",
    "    m = \"\"\n",
    "    for james in bonde:\n",
    "        if james == 0 or james == 7:\n",
    "            m += str(james)\n",
    "    else:\n",
    "        if m == \"007\":\n",
    "            print(\"True\")\n",
    "        else:\n",
    "            print(\"False\")\n",
    "        \n",
    "espiao([1,2,4,0,0,7,5])\n",
    "espiao([1,0,2,4,0,5,7])\n",
    "espiao([1,7,2,4,0,5,0])\n",
    "espiao([1,0,2,0,0,7,7])"
   ]
  },
  {
   "cell_type": "markdown",
   "metadata": {
    "collapsed": true
   },
   "source": [
    "7- Linha: Crie a classe Linha que tem dois atributos, coordenada1 e coordenada2. Cada coordenada é uma tupla que carrega duas coordenadas cartesianas (x,y) que denotam pontos do segmento de reta. Faça métodos que calculem o comprimento do segmento de reta e sua inclinação."
   ]
  },
  {
   "cell_type": "code",
   "execution_count": 32,
   "metadata": {},
   "outputs": [
    {
     "name": "stdout",
     "output_type": "stream",
     "text": [
      "Resultado: 25\n"
     ]
    }
   ],
   "source": [
    "class Linha:\n",
    "    def _init_(self,coo1=1,coo2=1):\n",
    "        self.coo1 = coo1\n",
    "        self.coo2 = coo2\n",
    "     \n",
    "    def calculo(self,coo1,coo2):\n",
    "        return (coo1**2 + coo2**2)**2\n",
    "    \n",
    "l = Linha()\n",
    "print(\"Resultado:\", l.calculo(1,2))"
   ]
  },
  {
   "cell_type": "markdown",
   "metadata": {},
   "source": [
    "8 - Figuras: Crie a seguinte hierarquia de classes de figuras geométricas. Veja na figura as fórmulas: a. A classe abstrata Figura deve ter o método abstrato area. b. A classe concreta Circulo é subclasse de Figura. c. A classe abstrata Poligono é subclasse de Figura e deve ter os atributos base e altura . d. As classes concretas Triangulo, Losango, Retangulo e Quadrado são subclasses de Poligono. Tente criar mais uma generalização aqui olhando as fórmulas da área. e. Os polígonos Retangulo e Quadrado devem implementar a interface Diagonal, que deve ter um método que calcula a diagonal. f. Crie uma classe Geometria com uma lista de Figuras com pelo menos uma figura de cada e imprima suas áreas, perímetros e diagonais"
   ]
  },
  {
   "cell_type": "code",
   "execution_count": 38,
   "metadata": {},
   "outputs": [
    {
     "name": "stdout",
     "output_type": "stream",
     "text": [
      "6.28\n",
      "0.5\n"
     ]
    }
   ],
   "source": [
    "class Figuras:\n",
    "    def area(self):\n",
    "        pass\n",
    "    \n",
    "class Circulo(Figuras):\n",
    "    raio = 1\n",
    "    def _init_(self, raio):\n",
    "        self.raio = raio\n",
    "    \n",
    "    def area(self,raio):\n",
    "        return self.raio * 3.14 * 2\n",
    "    \n",
    "class Poligono(Figuras):\n",
    "    a = 1\n",
    "    b = 1\n",
    "    def _init_(self,b,a):\n",
    "        self.b = b\n",
    "        self.a = a\n",
    "        \n",
    "    def area(self,a,b):\n",
    "        return self.a * self.b / 2    \n",
    "        \n",
    "c = Circulo()\n",
    "p = Poligono()\n",
    "\n",
    "print(c.area(2))\n",
    "print(p.area(1,1))"
   ]
  }
 ],
 "metadata": {
  "kernelspec": {
   "display_name": "Python 3",
   "language": "python",
   "name": "python3"
  },
  "language_info": {
   "codemirror_mode": {
    "name": "ipython",
    "version": 3
   },
   "file_extension": ".py",
   "mimetype": "text/x-python",
   "name": "python",
   "nbconvert_exporter": "python",
   "pygments_lexer": "ipython3",
   "version": "3.6.5"
  }
 },
 "nbformat": 4,
 "nbformat_minor": 2
}
